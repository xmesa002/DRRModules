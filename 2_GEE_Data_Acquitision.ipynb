{
 "cells": [
  {
   "cell_type": "markdown",
   "metadata": {},
   "source": [
    "_________\n",
    "\n",
    "<img src=\"./imgs/DRRlogo.jpg\" width=\"350\" />\n",
    "\n",
    "# Land Cover Classification for use in the CAPRA Model \n",
    "\n",
    "## Data Acquisition\n",
    "\n",
    "\n",
    "_________"
   ]
  },
  {
   "cell_type": "markdown",
   "metadata": {},
   "source": [
    "### Learning Objectives\n",
    "\n",
    "In this tutorial you will learn how to search, find and visualize remotely sensed imagery from different sources like Google Earth Engine and the USGS Global Visualization Viewer (GloVis).\n",
    "\n",
    "### Remote Sensing Data in the CAPRA model\n",
    "\n",
    "The Central American Probabilistic Risk Assessment model for flood hazards is a secondary hazard model that requires spatially explicit runoff factors (Fig. 1).  Spatially explicit runoff values are determined from water evaporation and infiltration rates, which are a function of the land cover, land use and the soil characteristics of a location.  Hence, to produce a runoff factor (N) map it is essential to have a land cover map."
   ]
  },
  {
   "cell_type": "markdown",
   "metadata": {},
   "source": [
    "<img src=\"./imgs/CAPRAflood.PNG\">"
   ]
  },
  {
   "cell_type": "markdown",
   "metadata": {},
   "source": [
    "The purpose of this tutorial is to derive a land cover map from satellite imagery using a classification method called recursive partitioning.  The procedure for the classification process is outlined in Figure 2. \n",
    "\n",
    "The tutorial will use the open source software Google Earth Engine (GEE) and its Python API. We will cover common tasks for data loading, image visualization and processing. The main steps of the classification process we developed for this tutorial with relevant software indicated in () are:\n",
    "\n",
    "1. Installation of Anaconda distributions including Spyder and Jupyter notebook plug-in<br>\n",
    "2. Classification Scheme Definition<br> \n",
    "3. Remote Sensing Process<br>\n",
    "4. Free Data: Sensors<br>\n",
    "5. Acquisition and Processing Options (Exploration: GloVis, USGS-EE; Download: USGS-EE, ESPA; Cloud Processing: GEE<br>\n",
    "6. Image Evaluation and Visualization (GEE Python API)<br>\n",
    "7. Derivation of Additional Information from Reflectance Image (GEE Python API)<br>\n",
    "8. Evaluation of Variable Set and Classification Algorithm<br> - Digitization of Reference Locations for Training Set (Google Earth)<br> - Evaluation of Variable Set and Classification Algorithm (GEE Python API)<br> - Classification and evaluation of classifiers (GEE Python API)<br> - Generate Final Map (GEE Python API)<br>\n",
    "9. Accuracy Assessment<br> - Stratified Random Sampling by Land-Cover Class (GEE Python API)<br> -  Visual Evaluation of Random Samples (Google Earth)<br> - Evaluation of the Contingency Matrix (GEE Python API)\n",
    "\n"
   ]
  },
  {
   "cell_type": "markdown",
   "metadata": {
    "scrolled": true
   },
   "source": [
    "<img src=\"./imgs/JensenClfProcess.PNG\" width=\"700\" />"
   ]
  },
  {
   "cell_type": "markdown",
   "metadata": {},
   "source": [
    "# Data Acquisition and Processing Options"
   ]
  },
  {
   "cell_type": "markdown",
   "metadata": {},
   "source": [
    "There are multiple websites from agencies around the world that will equip you with high quality satellite imagery, free of charge. Here we will introduce different acquisition and processing options for Landsat data. The land cover classification will be carried out using the cloud computing resources in GEE. \n",
    "\n",
    "Landsat data is collected continuously along a near vertical path as the satellite moves from north to south. The data is randomly divided into nominal scenes with a spacing of approximately 160km. Landsat data is collected in accordance with the World Wide Reference System (WRS), which has catalogued the world's land mass into 57,784 scenes, each 183 km wide by 170 km long (Jensen, 2005). These divisions facilitate querying satellite imagery over any portion of the world by specifying a nominal scene center designated by ‘path’ and ‘row’ numbers (Rocchio, June, 2011). When looking for a scene of a certain area, it can be obtained by using the path and row. If the path and row are not known, then the coordinates of the area of interest can be used. \n",
    "\n",
    "Several sites can be used to locate and obtain Landsat satellite imagery. Some recommended sites are  Global Visualization Viewer (GloVis) portal and Earth Explorer by USGS, these two are considered to have the most complete collection of Landsat data, spanning the entire time of the program, beginning in the early 1970’s. "
   ]
  },
  {
   "cell_type": "markdown",
   "metadata": {},
   "source": [
    "### Exploration: GloVis"
   ]
  },
  {
   "cell_type": "markdown",
   "metadata": {},
   "source": [
    "The USGS GloVis site at(http://glovis.usgs.gov) distributes Landsat data, as well as some other imagery from ASTER, MODIS and some others. \n",
    "\n",
    "(1) Go to the GloVis portal. You will see the following browse image viewer:\n",
    "\n",
    "<img src=\"./imgs/Glovis_3.png\">\n",
    "\n",
    "(2) Under the Data Set menu, select Landsat 8 (L8) OLI/TIRS C1 Level-1<br>\n",
    "(3) Under the Metadata Filter enter the desired date range: January, 2018 to May, 2019<br>\n",
    "(4) Set the cloud cover from 0 to 20 and click on Apply<br>\n",
    "\n",
    "The number of available scenes that match the criteria will be shown under the Dataset menu.\n",
    "\n",
    "(5) Expand the timeline tab and browse the available L8 scenes<br> \n",
    "(6) Open the metadata for the *LC08_L1TP_007047_20190108_20190130_01_T1* scene\n"
   ]
  },
  {
   "cell_type": "markdown",
   "metadata": {},
   "source": [
    "#### <i>Question\n",
    "#### <i>(1)\tWhat are path and row for the images that cover your ROI?"
   ]
  },
  {
   "cell_type": "markdown",
   "metadata": {},
   "source": [
    "The L8 scenes can be downloaded and visualized in a Geographical Information Systems software. In this tutorial we will use the cloud based data in GEE to visualize and process the L8 scenes. "
   ]
  },
  {
   "cell_type": "markdown",
   "metadata": {},
   "source": [
    "### Exploration: Google Earth Engine"
   ]
  },
  {
   "cell_type": "markdown",
   "metadata": {},
   "source": [
    "GEE provides a javascript interface where users can manage their assets, create scripts and visualize results. This interface is available in [GEE] https://code.earthengine.google.com/ Although we will use the python API of GEE, in this part of the tutorial we will use the javascript interface to load data. Later on, we will learn how to do it programatically using GEE Python API."
   ]
  },
  {
   "cell_type": "markdown",
   "metadata": {},
   "source": [
    "#### Overview of GEE web interface"
   ]
  },
  {
   "cell_type": "markdown",
   "metadata": {},
   "source": [
    "We can distinguish four main areas as the image below shows. \n",
    "1. Left panel. Here we have three tabs: <i>scripts</i>, <i>asset</i> and <i>docs</i>. \n",
    "2. Middle panel. A script editor.\n",
    "3. Right panel. It consist of three tabs: <i>Inspector</i>, <i>console</i> and <i>tasks</i>. \n",
    "4. Map area. We can add visualize data it in this section or edit features.<br> \n",
    "\n",
    "\n",
    "<img src=\"./imgs/GEE.png\">"
   ]
  },
  {
   "cell_type": "markdown",
   "metadata": {},
   "source": [
    "#### Loading an image"
   ]
  },
  {
   "cell_type": "markdown",
   "metadata": {},
   "source": [
    "GEE has a large amount of Earth data free available for researchers. We're going to work with a Landsat 8 (L8) image collection which has been processed to surface reflectance values (i.e. the processing has attempted to remove the atmospheric effects). We will load the Landsat scene over our area of interest(Dominican Republic).<br> \n",
    "\n",
    "To inspect a L8 image in the region of interest (ROI), we will define the ROI as a point, filter the image collection to get a scene with few clouds, and display information about the image in the console. <br>\n",
    "\n",
    "1. Search for Dominican Republic (DR) in the search bar and click the result to pan and zoom the map to the Dominican Republic<br>\n",
    "2. Use the geometry tools to make a point on the DR (exit the drawing tool when you're finished). Name the resultant point by clicking on the import name ('geometry' by default)<br>\n",
    "3. Search for 'Landsat 8 Surface Reflectance Tier 1' Image Collection. Name the import landsat<br>\n",
    "4. Filter the ImageCollection by date and location, sort by metadata property called 'CLOUD_COVER' and get the first image out of this sorted collection:\n",
    "\n",
    "You can type the following Java code into the script editor in GEE. The Python API of GEE will be used for the remainder of the tutorial\n",
    "\n",
    "// Note that we need to cast the result of first() to Image<br>\n",
    "var image = ee.Image(landsat\n",
    "\n",
    ">// Filter to get only images in the specified range<br>\n",
    ".filterDate('2018-01-01', '2018-12-31')\n",
    "\n",
    ">// Filter to get only images at the location of the point<br>\n",
    ".filterBounds(point)\n",
    "\n",
    ">// Sort the collection by a metadata property<br>\n",
    "sort('CLOUD_COVER')\n",
    "\n",
    ">// Get the first image out of this collection<br>\n",
    ".first());\n",
    "\n",
    "(5) Display a readable representationof the image by printing it to the console:<br>\n",
    "\n",
    "//Print the image to the console<br>\n",
    "print('A Landsat scene:', image);\n",
    "\n",
    "<img src=\"./imgs/javaCode.PNG\">\n",
    "\n",
    "(6) Activate the console and observe that after the descroptive text, an object is displayed. Expand and explore the object by clicking the little triangle next to the image name to see more information stored in that object. Expand the properties and inspect the metadata of the image. This is where the CLOUD_COVER property you just used is stored."
   ]
  },
  {
   "cell_type": "markdown",
   "metadata": {},
   "source": [
    "Now that you are familiar with GEE's user interface you can explore it further at your own leisure. The next sections of the tutorial will be performed using GEE Python Application Programming Interface. "
   ]
  }
 ],
 "metadata": {
  "kernelspec": {
   "display_name": "Python 3 (Spyder)",
   "language": "python3",
   "name": "python3"
  },
  "language_info": {
   "codemirror_mode": {
    "name": "ipython",
    "version": 3
   },
   "file_extension": ".py",
   "mimetype": "text/x-python",
   "name": "python",
   "nbconvert_exporter": "python",
   "pygments_lexer": "ipython3",
   "version": "3.7.3"
  }
 },
 "nbformat": 4,
 "nbformat_minor": 2
}
