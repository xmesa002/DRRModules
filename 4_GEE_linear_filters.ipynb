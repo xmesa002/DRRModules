{
 "cells": [
  {
   "cell_type": "markdown",
   "metadata": {},
   "source": [
    "______\n",
    "<img src=\"./imgs/DRRlogo.jpg\" width=\"350\" />\n",
    "\n",
    "# Land Cover Classification for use in the CAPRA Model \n",
    "\n",
    "## Linear filters\n",
    "_____"
   ]
  },
  {
   "cell_type": "markdown",
   "metadata": {},
   "source": [
    "It is common to apply filters to enhance images for visualization or as a previous step for image processing. Linear filtering (or convolution) refers to a linear combination of pixel values in a neighborhood. The neighborhoood is specified by a  kernel, the weights of the kernel determine the coefficients in the linear combination (in GEE the term *filter* is used interchangeably with *kernel*).\n",
    "\n",
    "Convolution filters calculate a new image applying a moving window over the original pixels contained in the defined window. The following image adapted from [Richards, J. (2013)](http://www.springer.com/gp/book/9783642300615), illustrates the operation of a moving window.<br>\n",
    "\n",
    "<img src=\"./imgs/filter_window.png\">\n",
    "\n",
    "Filtering an image can be useful for extracting image information at different spatial frequencies. For this reason, smoothing filters are called low-pass filters (they let low-frequency data pass through) and edge detection filters are called high-pass filters. To implement filtering in GEE use image.convolve() with ee.kernel for the argument.\n",
    "\n",
    "### Smoothing\n",
    "\n",
    "Smoothing means to convolve an image with a smoothing or low-pass kernel. GEE includes several filters or kernels. A simple smoothing kernel evaluates a particular input pixel value, and the pixels sorrounding the input pixel, and outputs a new pixel value, that is the mean of this convolution. This simple filter is a square kernel with uniform weights. Convolving with this kernel sets each pixel to the mean of its neighborhood (sometimes called a \"pillbox\" or \"boxcar\" filter).\n",
    "\n",
    "In this example, we will select a square kernel that has the following parameters: <br>\n",
    "+ *radius (Float)* :  The radius of the kernel to generate. For a 3x3 kernel, we should use 1, for 5x5 kernel we should use 2 and so on. <br>\n",
    "+ *units (String) *:The system of measurement for the kernel \"meters\" or \"pixels\". Default value: \"pixels\".<br>\n",
    "+ *normalize (Boolean)*: Indicates if the kernel values should be normalized to sum 1. Default value: \"True\".<br>\n",
    "+ *magnitude (Float) *: Scale each value by this amount. Default: 1.<br>\n",
    "The kernel definition of a mean filter looks like the image below: <br> \n",
    "<img src=\"./imgs/filter_mean.png\">\n",
    "This filter will smooth the image as can be seen after applying the following code."
   ]
  },
  {
   "cell_type": "code",
   "execution_count": 1,
   "metadata": {},
   "outputs": [],
   "source": [
    "import ee\n",
    "from IPython.display import Image\n",
    "ee.Initialize()\n",
    "\n",
    "# load the image collection and filter\n",
    "l8sr = ee.ImageCollection('LANDSAT/LC08/C01/T1_SR')\n",
    "\n",
    "CBD = ee.FeatureCollection(\"USDOS/LSIB/2013\")\n",
    "boundary = CBD.filterMetadata('name', 'equals', 'DOMINICAN REPUBLIC')\n",
    "\n",
    "visimage = ee.Image(l8sr\n",
    "            .filterDate('2019-01-01', '2019-04-30')\n",
    "            .filterBounds(boundary)\n",
    "            .sort('CLOUD_COVER')   \n",
    "            .select('B[2-5]')   \n",
    "            .first()\n",
    ")"
   ]
  },
  {
   "cell_type": "code",
   "execution_count": 2,
   "metadata": {},
   "outputs": [
    {
     "data": {
      "text/html": [
       "<img src=\"https://earthengine.googleapis.com/api/thumb?thumbid=6d7114e8a3964635982cc46b3f2cee87&token=6256f7b34f19f9fdb441c477c179e2c8\"/>"
      ],
      "text/plain": [
       "<IPython.core.display.Image object>"
      ]
     },
     "execution_count": 2,
     "metadata": {},
     "output_type": "execute_result"
    }
   ],
   "source": [
    "# defining the filter\n",
    "lpk = ee.Kernel.square(radius = 1, units = 'pixels', normalize= True)  # filter mean of 3*3 \n",
    "# apply the filter using the function convolve\n",
    "smooth3x3 =    visimage.convolve(lpk)\n",
    "# visualize the result\n",
    "Image(url=smooth3x3.getThumbUrl({'min': 0, 'max': 2000,'bands': 'B4,B3,B2'}))"
   ]
  },
  {
   "cell_type": "code",
   "execution_count": 3,
   "metadata": {
    "slideshow": {
     "slide_type": "slide"
    }
   },
   "outputs": [
    {
     "data": {
      "text/html": [
       "<img src=\"https://earthengine.googleapis.com/api/thumb?thumbid=6b172c3767cb30debf50c68026433f00&token=d1a812c1c72ea769c728193018722080\"/>"
      ],
      "text/plain": [
       "<IPython.core.display.Image object>"
      ]
     },
     "execution_count": 3,
     "metadata": {},
     "output_type": "execute_result"
    }
   ],
   "source": [
    "# Increasing the size of the moving window. \n",
    "# defining the filter\n",
    "lpk = ee.Kernel.square(radius = 3, units = 'pixels', normalize= True)  # 7*7 filter \n",
    "# apply the filter using the function convolve\n",
    "smooth7x7 =    visimage.convolve(lpk)\n",
    "# visualize the result\n",
    "Image(url=smooth7x7.getThumbUrl({'min': 0, 'max': 2048,'bands': 'B4,B3,B2'}))"
   ]
  },
  {
   "cell_type": "markdown",
   "metadata": {},
   "source": [
    "A Gaussian kernel can also be used for smoothing. With a Gaussian smoothing filter more weight is given at the central pixels and less weight to the neighbors. The farther away the neighbors, the smaller the wight. Think of filtering with a Gaussian kernel as computing the weighted average "
   ]
  },
  {
   "cell_type": "code",
   "execution_count": 5,
   "metadata": {},
   "outputs": [
    {
     "name": "stdout",
     "output_type": "stream",
     "text": [
      "{'center': [2, 2],\n",
      " 'radius': 2.0,\n",
      " 'type': 'Kernel.gaussian',\n",
      " 'weights': '\\n'\n",
      "            '  [0.0029690167439504977, 0.013306209891013656, '\n",
      "            '0.021938231279714653, 0.013306209891013656, '\n",
      "            '0.0029690167439504977]\\n'\n",
      "            '  [0.013306209891013656, 0.05963429543618016, 0.0983203313488458, '\n",
      "            '0.05963429543618016, 0.013306209891013656]\\n'\n",
      "            '  [0.021938231279714653, 0.0983203313488458, 0.1621028216371267, '\n",
      "            '0.0983203313488458, 0.021938231279714653]\\n'\n",
      "            '  [0.013306209891013656, 0.05963429543618016, 0.0983203313488458, '\n",
      "            '0.05963429543618016, 0.013306209891013656]\\n'\n",
      "            '  [0.0029690167439504977, 0.013306209891013656, '\n",
      "            '0.021938231279714653, 0.013306209891013656, '\n",
      "            '0.0029690167439504977]'}\n"
     ]
    },
    {
     "data": {
      "text/html": [
       "<img src=\"https://earthengine.googleapis.com/api/thumb?thumbid=418c8c787db145933431f638aead63d1&token=c6a784c7c3f5442fe8cc825d64ececdd\"/>"
      ],
      "text/plain": [
       "<IPython.core.display.Image object>"
      ]
     },
     "execution_count": 5,
     "metadata": {},
     "output_type": "execute_result"
    }
   ],
   "source": [
    "import pprint\n",
    "# Lets try another example, using a gaussian filter\n",
    "# define the kernel, the code below will produce a discrete aproximation of a gaussian filter with sigma= 1 and size=5x5 <br> \n",
    "gauskernel = ee.Kernel.gaussian(2,1)\n",
    "pprint.pprint(gauskernel.getInfo())\n",
    "# apply the filter\n",
    "gauss=  visimage.convolve(gauskernel)\n",
    "# visualize results \n",
    "Image(url=gauss.getThumbUrl({'min': 0, 'max': 2048,'bands': 'B4,B3,B2'}))"
   ]
  },
  {
   "cell_type": "markdown",
   "metadata": {},
   "source": [
    "### Edge detection\n",
    "\n",
    "\n",
    "Convolving with an edge-detection kernel is used to find rapid changes in pixel values that usually signify edges of objects rpresented in the image data. <br>\n",
    "We can also define the kernel using the <i>fixed</i> kernel option. <br>\n",
    "Parameters for a fixed kernel are: <br>\n",
    "+ *width (Integer)*: The width of the kernel in pixels.\n",
    "+ *height (Integer)*: The height of the kernel in pixels.\n",
    "+ *weights (List)*: The pixel values of the kernel.\n",
    "+ *x (Integer, default: -1)*:\n",
    "The location of the focus, as an offset from the left.\n",
    "+ *y (Integer, default: -1)*:The location of the focus, as an offset from the top.\n",
    "+ *normalize (Boolean, default: false)*:Normalize the kernel values to sum to 1."
   ]
  },
  {
   "cell_type": "code",
   "execution_count": 6,
   "metadata": {
    "slideshow": {
     "slide_type": "slide"
    }
   },
   "outputs": [
    {
     "name": "stdout",
     "output_type": "stream",
     "text": [
      "{'type': 'Kernel.fixed', 'width': 3, 'height': 1, 'weights': '\\n  [-1.0, 0.0, 1.0]', 'x': 1, 'y': 0, 'center': [1, 0]}\n"
     ]
    }
   ],
   "source": [
    "# Lets apply an edge detection filter of 1x3.\n",
    "# define the kernel\n",
    "list =  [[-1,0 , 1]]\n",
    "kernel = ee.Kernel.fixed(3, 1, list, -1, 0, False)\n",
    "print(kernel.getInfo())"
   ]
  },
  {
   "cell_type": "code",
   "execution_count": 7,
   "metadata": {},
   "outputs": [
    {
     "data": {
      "text/html": [
       "<img src=\"https://earthengine.googleapis.com/api/thumb?thumbid=f3ecc246dbf40e5dd53422a868b83d4e&token=6b6c1e27c53783de972e5d5cea4fc285\"/>"
      ],
      "text/plain": [
       "<IPython.core.display.Image object>"
      ]
     },
     "execution_count": 7,
     "metadata": {},
     "output_type": "execute_result"
    }
   ],
   "source": [
    "# apply the kernel\n",
    "edge1x3 = visimage.convolve(kernel)\n",
    "\n",
    "# visualize the result\n",
    "Image(url=edge1x3.getThumbUrl({'min': 0, 'max': 2000,'bands': 'B4,B3,B2'}))"
   ]
  },
  {
   "cell_type": "code",
   "execution_count": 8,
   "metadata": {},
   "outputs": [
    {
     "name": "stdout",
     "output_type": "stream",
     "text": [
      "{'type': 'Kernel.fixed', 'width': 1, 'height': 3, 'weights': '\\n  [-1.0]\\n  [0.0]\\n  [1.0]', 'x': 0, 'y': 0, 'center': [0, 0]}\n"
     ]
    },
    {
     "data": {
      "text/html": [
       "<img src=\"https://earthengine.googleapis.com/api/thumb?thumbid=d2fe94d8c0d37969a5e1678a67e14ff0&token=5931f2825a8a45ff32ac3e19921f5339\"/>"
      ],
      "text/plain": [
       "<IPython.core.display.Image object>"
      ]
     },
     "execution_count": 8,
     "metadata": {},
     "output_type": "execute_result"
    }
   ],
   "source": [
    "# Lets apply a edge detection filter of 3x1.\n",
    "# define the kernel\n",
    "list =  [[-1],[0] , [1]]\n",
    "kernel = ee.Kernel.fixed(1, 3, list, -1, 0, False)\n",
    "print(kernel.getInfo())\n",
    "# apply the kernel\n",
    "edge1x3 = visimage.convolve(kernel)\n",
    "\n",
    "# visualize the result\n",
    "Image(url=edge1x3.getThumbUrl({'min': 0, 'max': 2048,'bands': 'B4,B3,B2'}))"
   ]
  },
  {
   "cell_type": "markdown",
   "metadata": {},
   "source": [
    "A classic edge detection kernel is the [Laplacian filter](https://en.wikipedia.org/wiki/Discrete_Laplace_operator).  <br>\n",
    " A possible kernel for a laplacian filter is: <br>\n",
    "<img src=\"./imgs/laplacian.png\">"
   ]
  },
  {
   "cell_type": "code",
   "execution_count": 9,
   "metadata": {},
   "outputs": [
    {
     "name": "stdout",
     "output_type": "stream",
     "text": [
      "{'center': [1, 1],\n",
      " 'height': 3,\n",
      " 'type': 'Kernel.fixed',\n",
      " 'weights': '\\n  [0.0, 1.0, 0.0]\\n  [1.0, -4.0, 1.0]\\n  [0.0, 1.0, 0.0]',\n",
      " 'width': 3,\n",
      " 'x': 1,\n",
      " 'y': 1}\n"
     ]
    },
    {
     "data": {
      "text/html": [
       "<img src=\"https://earthengine.googleapis.com/api/thumb?thumbid=ccd25968ae4aabc40f722e0476174ae9&token=888e1357b53f8797980940d0a2957035\"/>"
      ],
      "text/plain": [
       "<IPython.core.display.Image object>"
      ]
     },
     "execution_count": 9,
     "metadata": {},
     "output_type": "execute_result"
    }
   ],
   "source": [
    "# define the kernel for Laplacian filter\n",
    "import pprint\n",
    "list =  [0,1,0]\n",
    "center  = [1,-4,1]\n",
    "klist = [list,center,list]\n",
    "kernel = ee.Kernel.fixed(3, 3, klist, -1, -1, False)\n",
    "\n",
    "pprint.pprint(kernel.getInfo())\n",
    "# apply the kernel\n",
    "laplacian = visimage.convolve(kernel)\n",
    "\n",
    "# visualize the result\n",
    "\n",
    "Image(url=laplacian.getThumbUrl({'min': 0, 'max': 2048,'bands': 'B4,B3,B2'}))"
   ]
  },
  {
   "cell_type": "markdown",
   "metadata": {},
   "source": [
    "We have defined a particular Laplacian kernel. But, it is also possible to use some laplacian kernels that  GEE has already defined.  The following code illustrates a predefined Laplacian kernel."
   ]
  },
  {
   "cell_type": "code",
   "execution_count": 10,
   "metadata": {},
   "outputs": [
    {
     "name": "stdout",
     "output_type": "stream",
     "text": [
      "{'center': [1, 1],\n",
      " 'type': 'Kernel.laplacian8',\n",
      " 'weights': '\\n  [1.0, 1.0, 1.0]\\n  [1.0, -8.0, 1.0]\\n  [1.0, 1.0, 1.0]'}\n"
     ]
    },
    {
     "data": {
      "text/html": [
       "<img src=\"https://earthengine.googleapis.com/api/thumb?thumbid=5ec6d4e5d5df0e71e04485a7af0e5e60&token=2f99878146263c644afe766277fb5785\"/>"
      ],
      "text/plain": [
       "<IPython.core.display.Image object>"
      ]
     },
     "execution_count": 10,
     "metadata": {},
     "output_type": "execute_result"
    }
   ],
   "source": [
    "# define the kernel <br> \n",
    "kernel = ee.Kernel.laplacian8()\n",
    "pprint.pprint(kernel.getInfo())\n",
    "# apply the filter\n",
    "laplacian8 =  visimage.convolve(kernel)\n",
    "# visualize results \n",
    "Image(url = laplacian8.getThumbUrl({'min': 0, 'max': 2048,'bands': 'B4,B3,B2'}))"
   ]
  }
 ],
 "metadata": {
  "kernelspec": {
   "display_name": "Python 3 (Spyder)",
   "language": "python3",
   "name": "python3"
  },
  "language_info": {
   "codemirror_mode": {
    "name": "ipython",
    "version": 3
   },
   "file_extension": ".py",
   "mimetype": "text/x-python",
   "name": "python",
   "nbconvert_exporter": "python",
   "pygments_lexer": "ipython3",
   "version": "3.7.3"
  }
 },
 "nbformat": 4,
 "nbformat_minor": 2
}
