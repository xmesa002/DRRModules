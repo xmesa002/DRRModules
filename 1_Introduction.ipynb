{
  "nbformat": 4,
  "nbformat_minor": 0,
  "metadata": {
    "colab": {
      "name": "Untitled1.ipynb",
      "provenance": [],
      "toc_visible": true,
      "authorship_tag": "ABX9TyO1aeLmYIoNnwgYLS661GLY",
      "include_colab_link": true
    },
    "kernelspec": {
      "name": "python3",
      "display_name": "Python 3"
    }
  },
  "cells": [
    {
      "cell_type": "markdown",
      "metadata": {
        "id": "view-in-github",
        "colab_type": "text"
      },
      "source": [
        "<a href=\"https://colab.research.google.com/github/xmesa002/DRRModules/blob/master/1_Introductory.ipynb\" target=\"_parent\"><img src=\"https://colab.research.google.com/assets/colab-badge.svg\" alt=\"Open In Colab\"/></a>"
      ]
    },
    {
      "cell_type": "markdown",
      "metadata": {
        "id": "6yOqdgJUQtJE",
        "colab_type": "text"
      },
      "source": [
        "_________\n",
        "\n",
        "<img src=\"https://github.com/xmesa002/DRRModules/blob/master/imgs/DRRlogo.jpg?raw=1\" width=\"350\" />\n",
        "\n",
        "# <b>Land Cover Classification with Google Earth Engine</b> \n",
        "\n",
        "## Introduction\n",
        "\n",
        "\n",
        "_________"
      ]
    },
    {
      "cell_type": "markdown",
      "metadata": {
        "id": "TmWU7BaJRT6L",
        "colab_type": "text"
      },
      "source": [
        "## Remote Sensing Data in Disaster Risk Models\n",
        "\n",
        "Flood hazard models require spatially explicit runoff factors (Fig. 1).  Spatially explicit runoff values are determined from water evaporation and infiltration rates, which are a function of the land cover, land use and the soil characteristics of a location.  Hence, to produce a runoff factor (N) map it is essential to have a land cover map.\n",
        "\n",
        "In this tutorial you will learn how to search, find and visualize remotely sensed imagery from different sources like Google Earth Engine and the USGS Global Visualization Viewer (GloVis)."
      ]
    },
    {
      "cell_type": "markdown",
      "metadata": {
        "id": "DBRpQkWXRg0i",
        "colab_type": "text"
      },
      "source": [
        "<img src=\"./imgs/CAPRAflood.PNG\">"
      ]
    },
    {
      "cell_type": "markdown",
      "metadata": {
        "id": "_OKCO3tNVv85",
        "colab_type": "text"
      },
      "source": [
        "The purpose of the following section of the course is to derive a land cover map from satellite imagery using differemt classification methods. The procedure for the classification process is outlined in Figure 2. \n",
        "\n",
        "The tutorial will use the open source software Google Earth Engine (GEE) and its Python Application Programming Interface (API). We will cover common tasks for data loading, image visualization and processing. The main steps of the work flow developed for this tutorial with relevant software indicated in () are:\n",
        "\n",
        "1. Installation of Anaconda distributions including Spyder and Jupyter notebook plug-in<br>\n",
        "2. Acquisition and Processing Options (Exploration: GloVis, USGS-EE; Download: USGS-EE, ESPA; Cloud Processing: GEE<br>\n",
        "3. Image Evaluation and Visualization (GEE Python API)<br>\n",
        "4. Classification Scheme Definition<br> \n",
        "5. Remote Sensing Process<br>\n",
        "6. Derivation of Additional Information from Reflectance Image (GEE Python API)<br>\n",
        "7. Evaluation of Variable Set and Classification Algorithm<br> - Digitization of Reference Locations for Training Set (Google Earth)<br> - Evaluation of Variable Set and Classification Algorithm (GEE Python API)<br> - Classification and evaluation of classifiers (GEE Python API)<br> - Generate Final Map (GEE Python API)<br>\n",
        "8. Accuracy Assessment<br> - Stratified Random Sampling by Land-Cover Class (GEE Python API)<br> -  Visual Evaluation of Random Samples (Google Earth)<br> - Evaluation of the Contingency Matrix (GEE Python API)\n"
      ]
    },
    {
      "cell_type": "markdown",
      "metadata": {
        "id": "SV7AOgcaWJ3p",
        "colab_type": "text"
      },
      "source": [
        "<img src=\"./imgs/JensenClfProcess.PNG\" width=\"700\" />"
      ]
    },
    {
      "cell_type": "markdown",
      "metadata": {
        "id": "4mvGA84SWLs4",
        "colab_type": "text"
      },
      "source": [
        "## What is Google Earth Engine?\n",
        "\n",
        "Gorelick et al. (2017) wrote in the 2017 <i>Remote Sensing of the Environment</i> article the following to describe GEE:\n",
        "\n",
        "<i>Google Earth Engine is a cloud-based platform for planetary-scale geospatial analysis that brings Google’s massive computational capabilities to bear on a variety of high-impact societal issues including deforestation, drought, disaster, disease, food security, water management, climate monitoring and environmental protection.</i>\n",
        "\n",
        "The purpose of Earth Engine is to perform highly-interactive algorithm development at a global scale; extend the limits for big data in remote sensing and enable high-impact, data driven science.\n",
        "\n",
        "Through GEE you can run geospatial analysis  on Google's inrastrutucture. There are serveral ways to interact with the platform:\n",
        "\n",
        "__[Explorer](https://explorer.earthengine.google.com/#workspace)__  \n",
        "__[Code Editor](https://code.earthengine.google.com/)__<br>\n",
        "__[Javascript library](https://github.com/google/earthengine-api/tree/master/javascript)__<br>\n",
        "__[Python library]__\n",
        "\n",
        "This course will focus on th elast option. The python wrapper library can be used to develop Earth Engine code locally. You can visit the Earth Engine's Developer Guide for an overview.\n",
        "\n",
        "#### Components\n",
        "\n",
        "The main components of Earth Engine are:\n",
        "\n",
        "<b>Datasets:</b> A petabyte-scale archive of publicly available remotely sensed imagery and other data. Explore the data catalog.\n",
        "\n",
        "<b>Compute power:</b> Google’s computational infrastructure optimized for parallel processing of geospatial data.\n",
        "\n",
        "<b>APIs:</b> APIs for JavaScript and Python (hosted on GitHub) for making requests to the Earth Engine servers. These docs focus on JavaScript; (Get started guide for the Javascript API). For Python, see the Python install guide and the Python examples in the Earth Engine GitHub repository.\n",
        "\n",
        "<b>Code Editor:</b> An online Integrated Development Environment (IDE) for rapid prototyping and visualization of complex spatial analyses using the Javascript API. Explore the Code Editor docs."
      ]
    },
    {
      "cell_type": "code",
      "metadata": {
        "id": "P1CbVnKMW1HQ",
        "colab_type": "code",
        "colab": {
          "base_uri": "https://localhost:8080/",
          "height": 336
        },
        "cellView": "form",
        "outputId": "603752d4-2cc2-43f2-9c44-4dfa87430c9c"
      },
      "source": [
        "#@title ### Meet Earth Engine\n",
        "from IPython.display import HTML\n",
        "\n",
        "HTML('<iframe width=\"560\" height=\"315\" src=\"https://www.youtube.com/embed/gKGOeTFHnKY\" frameborder=\"0\" allowfullscreen></iframe>')\n"
      ],
      "execution_count": 1,
      "outputs": [
        {
          "output_type": "execute_result",
          "data": {
            "text/html": [
              "<iframe width=\"560\" height=\"315\" src=\"https://www.youtube.com/embed/gKGOeTFHnKY\" frameborder=\"0\" allowfullscreen></iframe>"
            ],
            "text/plain": [
              "<IPython.core.display.HTML object>"
            ]
          },
          "metadata": {
            "tags": []
          },
          "execution_count": 1
        }
      ]
    },
    {
      "cell_type": "markdown",
      "metadata": {
        "id": "TIOk79TwaLeS",
        "colab_type": "text"
      },
      "source": [
        ""
      ]
    },
    {
      "cell_type": "markdown",
      "metadata": {
        "colab_type": "text",
        "id": "3fvjtgedmrxq"
      },
      "source": [
        "##  Connecting GEE with other Google Services\n",
        "\n",
        "\n",
        "The Earth Engine Python API and command line tools can be installed using Python's pip package installation tool. The following notebook cell line starts with ! to indicate that a shell command should be invoked."
      ]
    },
    {
      "cell_type": "code",
      "metadata": {
        "colab_type": "code",
        "id": "_LSeUMzmoQpw",
        "colab": {
          "base_uri": "https://localhost:8080/",
          "height": 479
        },
        "outputId": "91f3b6b9-6bb9-4bbe-a09f-eda1fbe7b8b3"
      },
      "source": [
        "!pip install earthengine-api"
      ],
      "execution_count": 2,
      "outputs": [
        {
          "output_type": "stream",
          "text": [
            "Requirement already satisfied: earthengine-api in /usr/local/lib/python3.6/dist-packages (0.1.212)\n",
            "Requirement already satisfied: future in /usr/local/lib/python3.6/dist-packages (from earthengine-api) (0.16.0)\n",
            "Requirement already satisfied: google-auth-httplib2>=0.0.3 in /usr/local/lib/python3.6/dist-packages (from earthengine-api) (0.0.3)\n",
            "Requirement already satisfied: httplib2<1dev,>=0.9.2 in /usr/local/lib/python3.6/dist-packages (from earthengine-api) (0.11.3)\n",
            "Requirement already satisfied: google-api-python-client in /usr/local/lib/python3.6/dist-packages (from earthengine-api) (1.7.11)\n",
            "Requirement already satisfied: httplib2shim in /usr/local/lib/python3.6/dist-packages (from earthengine-api) (0.0.3)\n",
            "Requirement already satisfied: google-auth>=1.4.1 in /usr/local/lib/python3.6/dist-packages (from earthengine-api) (1.4.2)\n",
            "Requirement already satisfied: google-cloud-storage in /usr/local/lib/python3.6/dist-packages (from earthengine-api) (1.16.2)\n",
            "Requirement already satisfied: six in /usr/local/lib/python3.6/dist-packages (from earthengine-api) (1.12.0)\n",
            "Requirement already satisfied: uritemplate<4dev,>=3.0.0 in /usr/local/lib/python3.6/dist-packages (from google-api-python-client->earthengine-api) (3.0.1)\n",
            "Requirement already satisfied: certifi in /usr/local/lib/python3.6/dist-packages (from httplib2shim->earthengine-api) (2019.11.28)\n",
            "Requirement already satisfied: urllib3 in /usr/local/lib/python3.6/dist-packages (from httplib2shim->earthengine-api) (1.24.3)\n",
            "Requirement already satisfied: cachetools>=2.0.0 in /usr/local/lib/python3.6/dist-packages (from google-auth>=1.4.1->earthengine-api) (4.0.0)\n",
            "Requirement already satisfied: rsa>=3.1.4 in /usr/local/lib/python3.6/dist-packages (from google-auth>=1.4.1->earthengine-api) (4.0)\n",
            "Requirement already satisfied: pyasn1-modules>=0.2.1 in /usr/local/lib/python3.6/dist-packages (from google-auth>=1.4.1->earthengine-api) (0.2.8)\n",
            "Requirement already satisfied: google-resumable-media<0.5.0dev,>=0.3.1 in /usr/local/lib/python3.6/dist-packages (from google-cloud-storage->earthengine-api) (0.4.1)\n",
            "Requirement already satisfied: google-cloud-core<2.0dev,>=1.0.0 in /usr/local/lib/python3.6/dist-packages (from google-cloud-storage->earthengine-api) (1.0.3)\n",
            "Requirement already satisfied: pyasn1>=0.1.3 in /usr/local/lib/python3.6/dist-packages (from rsa>=3.1.4->google-auth>=1.4.1->earthengine-api) (0.4.8)\n",
            "Requirement already satisfied: google-api-core<2.0.0dev,>=1.14.0 in /usr/local/lib/python3.6/dist-packages (from google-cloud-core<2.0dev,>=1.0.0->google-cloud-storage->earthengine-api) (1.16.0)\n",
            "Requirement already satisfied: protobuf>=3.4.0 in /usr/local/lib/python3.6/dist-packages (from google-api-core<2.0.0dev,>=1.14.0->google-cloud-core<2.0dev,>=1.0.0->google-cloud-storage->earthengine-api) (3.10.0)\n",
            "Requirement already satisfied: requests<3.0.0dev,>=2.18.0 in /usr/local/lib/python3.6/dist-packages (from google-api-core<2.0.0dev,>=1.14.0->google-cloud-core<2.0dev,>=1.0.0->google-cloud-storage->earthengine-api) (2.21.0)\n",
            "Requirement already satisfied: pytz in /usr/local/lib/python3.6/dist-packages (from google-api-core<2.0.0dev,>=1.14.0->google-cloud-core<2.0dev,>=1.0.0->google-cloud-storage->earthengine-api) (2018.9)\n",
            "Requirement already satisfied: setuptools>=34.0.0 in /usr/local/lib/python3.6/dist-packages (from google-api-core<2.0.0dev,>=1.14.0->google-cloud-core<2.0dev,>=1.0.0->google-cloud-storage->earthengine-api) (45.1.0)\n",
            "Requirement already satisfied: googleapis-common-protos<2.0dev,>=1.6.0 in /usr/local/lib/python3.6/dist-packages (from google-api-core<2.0.0dev,>=1.14.0->google-cloud-core<2.0dev,>=1.0.0->google-cloud-storage->earthengine-api) (1.51.0)\n",
            "Requirement already satisfied: idna<2.9,>=2.5 in /usr/local/lib/python3.6/dist-packages (from requests<3.0.0dev,>=2.18.0->google-api-core<2.0.0dev,>=1.14.0->google-cloud-core<2.0dev,>=1.0.0->google-cloud-storage->earthengine-api) (2.8)\n",
            "Requirement already satisfied: chardet<3.1.0,>=3.0.2 in /usr/local/lib/python3.6/dist-packages (from requests<3.0.0dev,>=2.18.0->google-api-core<2.0.0dev,>=1.14.0->google-cloud-core<2.0dev,>=1.0.0->google-cloud-storage->earthengine-api) (3.0.4)\n"
          ],
          "name": "stdout"
        }
      ]
    },
    {
      "cell_type": "markdown",
      "metadata": {
        "colab_type": "text",
        "id": "iC8wVueFoT85"
      },
      "source": [
        "### Authentication \n",
        "\n",
        "To read/write from a Google Drive account to which you have access, it's necessary to authenticate. You'll also need to authenticate with Earth Engine, so that you'll have access to your scripts, assets, etc.\n",
        "\n",
        "#### Authenticate to Earth Engine\n",
        "\n",
        "In order to access Earth Engine, signup at [signup.earthengine.google.com](https://signup.earthengine.google.com/).\n",
        "\n",
        "When you run the code below, it will display a link in the output to an authentication page in your browser. Follow the link to a page that will let you grant permission to the Google Earth Engine to access your resources. Copy the code from the permissions page back into this notebook and press return to complete the process.\n",
        "\n"
      ]
    },
    {
      "cell_type": "code",
      "metadata": {
        "colab_type": "code",
        "id": "MeEs5x5uoevg",
        "colab": {
          "base_uri": "https://localhost:8080/",
          "height": 241
        },
        "outputId": "346f149c-69dd-44b5-acee-70c74c7af3fc"
      },
      "source": [
        "!earthengine authenticate"
      ],
      "execution_count": 3,
      "outputs": [
        {
          "output_type": "stream",
          "text": [
            "Running command using Cloud API.  Set --no-use_cloud_api to go back to using the API\n",
            "\n",
            "/usr/local/lib/python3.6/dist-packages/IPython/utils/traitlets.py:5: UserWarning: IPython.utils.traitlets has moved to a top-level traitlets package.\n",
            "  warn(\"IPython.utils.traitlets has moved to a top-level traitlets package.\")\n",
            "To authorize access needed by Earth Engine, open the following URL in a web browser and follow the instructions. If the web browser does not start automatically, please manually browse the URL below.\n",
            "\n",
            "    https://accounts.google.com/o/oauth2/auth?client_id=517222506229-vsmmajv00ul0bs7p89v5m89qs8eb9359.apps.googleusercontent.com&scope=https%3A%2F%2Fwww.googleapis.com%2Fauth%2Fearthengine+https%3A%2F%2Fwww.googleapis.com%2Fauth%2Fdevstorage.full_control&redirect_uri=urn%3Aietf%3Awg%3Aoauth%3A2.0%3Aoob&response_type=code\n",
            "\n",
            "The authorization workflow will generate a code, which you should paste in the box below. \n",
            "Enter verification code: 4/wAFUMbXAiPiX_W93iV1ZZf65cqvduJXO1CYijxp6Z7SLW-EduceRINA\n",
            "\n",
            "Successfully saved authorization token.\n"
          ],
          "name": "stdout"
        }
      ]
    },
    {
      "cell_type": "markdown",
      "metadata": {
        "colab_type": "text",
        "id": "SQ2O6uE2uRgL"
      },
      "source": [
        "#### Authenticate to Google Drive\n",
        "\n",
        "Authenticate to **Google Drive** on  the same way you did to the Earth Engine."
      ]
    },
    {
      "cell_type": "code",
      "metadata": {
        "colab_type": "code",
        "id": "SGq1N9ljuVbl",
        "colab": {
          "base_uri": "https://localhost:8080/",
          "height": 122
        },
        "outputId": "e36bc9b0-f2e8-41d9-e4fc-379e25e8fbc9"
      },
      "source": [
        "from google.colab import drive\n",
        "drive.mount('/content/drive')"
      ],
      "execution_count": 4,
      "outputs": [
        {
          "output_type": "stream",
          "text": [
            "Go to this URL in a browser: https://accounts.google.com/o/oauth2/auth?client_id=947318989803-6bn6qk8qdgf4n4g3pfee6491hc0brc4i.apps.googleusercontent.com&redirect_uri=urn%3aietf%3awg%3aoauth%3a2.0%3aoob&response_type=code&scope=email%20https%3a%2f%2fwww.googleapis.com%2fauth%2fdocs.test%20https%3a%2f%2fwww.googleapis.com%2fauth%2fdrive%20https%3a%2f%2fwww.googleapis.com%2fauth%2fdrive.photos.readonly%20https%3a%2f%2fwww.googleapis.com%2fauth%2fpeopleapi.readonly\n",
            "\n",
            "Enter your authorization code:\n",
            "··········\n",
            "Mounted at /content/drive\n"
          ],
          "name": "stdout"
        }
      ]
    },
    {
      "cell_type": "markdown",
      "metadata": {
        "colab_type": "text",
        "id": "NHrBAom4whXN"
      },
      "source": [
        " Once you have authorized access (just Earth Engine auth is required). Initialize your connection as shown the cell below."
      ]
    },
    {
      "cell_type": "code",
      "metadata": {
        "colab_type": "code",
        "id": "5F0WYN_8xECE",
        "colab": {}
      },
      "source": [
        "# Import the Earth Engine Python Package and initialize it.\n",
        "import ee\n",
        "ee.Initialize()"
      ],
      "execution_count": 0,
      "outputs": []
    }
  ]
}
