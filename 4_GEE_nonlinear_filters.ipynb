{
 "cells": [
  {
   "cell_type": "markdown",
   "metadata": {},
   "source": [
    "______\n",
    "\n",
    "<img src=\"./imgs/DRRlogo.jpg\" width=\"350\" />\n",
    "\n",
    "# Land Cover Classification for use in the CAPRA Model \n",
    "## Nonlinear filters\n",
    "_____\n",
    "\n",
    "In previous noteboooks, we applied convolutional filters.  Those filter compute a linear combination of pixels in a neighborhood(specified by the window shape) according to the weights specified by the kernel. Non-linear functions applied to a neighborhood are also useful. [Median](https://en.wikipedia.org/wiki/Median_filter) and [mode](https://www.cs.washington.edu/research/metip/tutor/tutor.Filtering.html)  are examples of non linear filters.  <br>\n",
    "\n",
    "Median filters are useful for removing noise in an image, especially pixel values with no relation to the image scene. Suppose that random pixels in the image are saturated by anomalously high or low values that result from some noise process. Filtering the image with a mean filter (previous notebook) would result in pixels values getting polluted by noisy data. The median filter ranks the pixels in the neighborhood from lowest to highest and selects the median value, which is then placed in the central value of the mask. \n",
    "\n",
    "An approach to apply nonlinear filters in GEE is by using the function *reduceNeighborhood()*. \n"
   ]
  },
  {
   "cell_type": "code",
   "execution_count": 1,
   "metadata": {},
   "outputs": [
    {
     "data": {
      "text/html": [
       "<img src=\"https://earthengine.googleapis.com/api/thumb?thumbid=e4fd2b351de0d6000ec88a95ef57cd6c&token=b7d273308d0d51e391191e11baab2934\"/>"
      ],
      "text/plain": [
       "<IPython.core.display.Image object>"
      ]
     },
     "execution_count": 1,
     "metadata": {},
     "output_type": "execute_result"
    }
   ],
   "source": [
    "import ee\n",
    "from IPython.display import Image\n",
    "\n",
    "ee.Initialize()\n",
    "\n",
    "# load the image collection and filter\n",
    "l8sr = ee.ImageCollection('LANDSAT/LC08/C01/T1_SR')\n",
    "\n",
    "CBD = ee.FeatureCollection(\"USDOS/LSIB/2013\")\n",
    "boundary = CBD.filterMetadata('name', 'equals', 'DOMINICAN REPUBLIC')\n",
    "\n",
    "visimage = ee.Image(l8sr\n",
    "            .filterDate('2019-01-01', '2019-04-30')\n",
    "            .filterBounds(boundary)\n",
    "            .sort('CLOUD_COVER')   \n",
    "            .select('B[2-5]')   \n",
    "            .first()\n",
    ")\n",
    "\n",
    "uniformKernel = ee.Kernel.square(1)  # this means a 3x3 window\n",
    "\n",
    "median = visimage.reduceNeighborhood(\n",
    "  reducer = ee.Reducer.median(), \n",
    "  kernel = uniformKernel\n",
    ")\n",
    " \n",
    "# band names of the result image will have the suffix \"_median\"     \n",
    "Image(url=median.getThumbUrl({'min': 0, 'max': 2048,'bands': 'B4_median,B3_median,B2_median'}))\n",
    " "
   ]
  },
  {
   "cell_type": "code",
   "execution_count": 2,
   "metadata": {},
   "outputs": [
    {
     "data": {
      "text/html": [
       "<img src=\"https://earthengine.googleapis.com/api/thumb?thumbid=10826116efc73ea5b68d16d4c3dfb20e&token=f49ce2b5d1eccff042a1042fef61c514\"/>"
      ],
      "text/plain": [
       "<IPython.core.display.Image object>"
      ]
     },
     "execution_count": 2,
     "metadata": {},
     "output_type": "execute_result"
    }
   ],
   "source": [
    "uniformKernel = ee.Kernel.square(2)  # this means a 5x5 window\n",
    "\n",
    "median = visimage.reduceNeighborhood(\n",
    "  reducer = ee.Reducer.median(), \n",
    "  kernel = uniformKernel\n",
    ")\n",
    " \n",
    "# band names of the result image will have the suffix \"_median\"     \n",
    "Image(url=median.getThumbUrl({'min': 0, 'max': 2048,'bands': 'B4_median,B3_median,B2_median'}))\n",
    " "
   ]
  },
  {
   "cell_type": "markdown",
   "metadata": {},
   "source": [
    "Filters can help enhance visually the image and reducing noise. However, when the interest rely on objects (connected group of pixels)  present in the image rather than individual pixels, we may use [morphological operations](https://en.wikipedia.org/wiki/Mathematical_morphology).  These operations are useful to clean objects that can have gaps or are not well defined because of noise. \n",
    "\n",
    "Dilation and erosion are commonly applied to remote sensing images. The following lines apply dilation and erosion to a multi-spectral image. Later those operations are applied to a classified (categorical) image as well. In these examples, the *structuring element* is a square of size 3x3 pixels (square kernel of radio 1 pixel). *Opening* and *closing* can be executed by combining erosion and dilation. <br>\n"
   ]
  },
  {
   "cell_type": "code",
   "execution_count": 3,
   "metadata": {},
   "outputs": [
    {
     "data": {
      "text/html": [
       "<img src=\"https://earthengine.googleapis.com/api/thumb?thumbid=1c8667e54938bf3663fe3a6f73670cf7&token=274242d2f2985e8f01e22d383dca605e\"/>"
      ],
      "text/plain": [
       "<IPython.core.display.Image object>"
      ]
     },
     "execution_count": 3,
     "metadata": {},
     "output_type": "execute_result"
    }
   ],
   "source": [
    "# dilation \n",
    "# Dilate by taking the max in each 3x3 neighborhood.\n",
    "imagemax = visimage.reduceNeighborhood(\n",
    "  reducer = ee.Reducer.max(), \n",
    "  kernel = ee.Kernel.square(1)\n",
    ")\n",
    "Image(url=imagemax.getThumbUrl({'min': 0, 'max': 2048,'bands': 'B4_max,B3_max,B2_max'}))"
   ]
  },
  {
   "cell_type": "code",
   "execution_count": 4,
   "metadata": {},
   "outputs": [
    {
     "data": {
      "text/html": [
       "<img src=\"https://earthengine.googleapis.com/api/thumb?thumbid=6159640d1a886e15f12b1a04569ba404&token=c8f0799e5b7bd5b7aab557cda2e4b7a4\"/>"
      ],
      "text/plain": [
       "<IPython.core.display.Image object>"
      ]
     },
     "execution_count": 4,
     "metadata": {},
     "output_type": "execute_result"
    }
   ],
   "source": [
    "# erosion\n",
    "# Dilate by taking the max in each 3x3 neighborhood.\n",
    "imagemin = visimage.reduceNeighborhood(\n",
    "  reducer = ee.Reducer.min(), \n",
    "  kernel = ee.Kernel.square(1)\n",
    ")\n",
    "Image(url=imagemin.getThumbUrl({'min': 0, 'max': 2048,'bands': 'B4_min,B3_min,B2_min'}))"
   ]
  },
  {
   "cell_type": "markdown",
   "metadata": {
    "collapsed": true
   },
   "source": [
    "You may want to try with a different structuring element, for example a disk by using a  kernel circle."
   ]
  }
 ],
 "metadata": {
  "kernelspec": {
   "display_name": "Python 3 (Spyder)",
   "language": "python3",
   "name": "python3"
  },
  "language_info": {
   "codemirror_mode": {
    "name": "ipython",
    "version": 3
   },
   "file_extension": ".py",
   "mimetype": "text/x-python",
   "name": "python",
   "nbconvert_exporter": "python",
   "pygments_lexer": "ipython3",
   "version": "3.7.3"
  }
 },
 "nbformat": 4,
 "nbformat_minor": 2
}
