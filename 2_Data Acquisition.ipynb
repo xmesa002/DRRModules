{
  "nbformat": 4,
  "nbformat_minor": 0,
  "metadata": {
    "colab": {
      "name": "Untitled2.ipynb",
      "provenance": [],
      "toc_visible": true,
      "authorship_tag": "ABX9TyO8iZotb3bDICjHfgYK8pT/",
      "include_colab_link": true
    },
    "kernelspec": {
      "name": "python3",
      "display_name": "Python 3"
    }
  },
  "cells": [
    {
      "cell_type": "markdown",
      "metadata": {
        "id": "view-in-github",
        "colab_type": "text"
      },
      "source": [
        "<a href=\"https://colab.research.google.com/github/xmesa002/DRRModules/blob/master/2_Data%20Acquisition.ipynb\" target=\"_parent\"><img src=\"https://colab.research.google.com/assets/colab-badge.svg\" alt=\"Open In Colab\"/></a>"
      ]
    },
    {
      "cell_type": "markdown",
      "metadata": {
        "id": "QvboNjPSWObs",
        "colab_type": "text"
      },
      "source": [
        "_________\n",
        "\n",
        "<img src=\"https://github.com/xmesa002/DRRModules/blob/master/imgs/DRRlogo.jpg?raw=1\" width=\"350\" />\n",
        "\n",
        "# <b>Land Cover Classification with Google Earth Engine</b> \n",
        "\n",
        "## 1. Data Acquisition\n",
        "\n",
        "_________"
      ]
    },
    {
      "cell_type": "markdown",
      "metadata": {
        "id": "urWC_N2kd2OJ",
        "colab_type": "text"
      },
      "source": [
        "There are multiple websites from agencies around the world that will equip you with high quality satellite imagery, free of charge. Here we will introduce different acquisition and processing options for Landsat data. The land cover classification will be carried out using the cloud computing resources in GEE. \n",
        "\n",
        "Landsat data is collected continuously along a near vertical path as the satellite moves from north to south. The data is randomly divided into nominal scenes with a spacing of approximately 160km. Landsat data is collected in accordance with the World Wide Reference System (WRS), which has catalogued the world's land mass into 57,784 scenes, each 183 km wide by 170 km long (Jensen, 2005). These divisions facilitate querying satellite imagery over any portion of the world by specifying a nominal scene center designated by ‘path’ and ‘row’ numbers (Rocchio, June, 2011). When looking for a scene of a certain area, it can be obtained by using the path and row. If the path and row are not known, then the coordinates of the area of interest can be used. \n",
        "\n",
        "Several sites can be used to locate and obtain Landsat satellite imagery. Some recommended sites are  Global Visualization Viewer (GloVis) portal and Earth Explorer by USGS, these two are considered to have the most complete collection of Landsat data, spanning the entire time of the program, beginning in the early 1970’s. \n",
        "\n",
        "### Exploration: GloVis\n",
        "\n",
        "The USGS GloVis site at(http://glovis.usgs.gov) distributes Landsat data, as well as some other imagery from ASTER, MODIS and some others. \n",
        "\n",
        "(1) Go to the GloVis portal. You will see the following browse image viewer:\n",
        "\n",
        "<img src=\"https://github.com/xmesa002/DRRModules/blob/master/imgs/Glovis_3.png?raw=1\" width=\"800\" />\n",
        "\n",
        "(2) Under the Data Set menu, select Landsat 8 (L8) OLI/TIRS C1 Level-1<br>\n",
        "(3) Under the Metadata Filter enter the desired date range: January, 2018 to May, 2019<br>\n",
        "(4) Set the cloud cover from 0 to 20 and click on Apply<br>\n",
        "\n",
        "The number of available scenes that match the criteria will be shown under the Dataset menu.\n",
        "\n",
        "(5) Expand the timeline tab and browse the available L8 scenes<br> \n",
        "(6) Open the metadata for the *LC08_L1TP_007047_20190108_20190130_01_T1* scene\n"
      ]
    },
    {
      "cell_type": "markdown",
      "metadata": {
        "id": "-tbzMiiIe583",
        "colab_type": "text"
      },
      "source": [
        "<b><i>Question\n",
        "(1)\tWhat are path and row for the images that cover your ROI?"
      ]
    },
    {
      "cell_type": "markdown",
      "metadata": {
        "id": "M9jzyIyOfi03",
        "colab_type": "text"
      },
      "source": [
        "The L8 scenes can be downloaded and visualized in a Geographical Information Systems software. In this tutorial we will use the cloud based data in GEE to visualize and process the L8 scenes. "
      ]
    },
    {
      "cell_type": "markdown",
      "metadata": {
        "id": "XT5wrQQDfqi9",
        "colab_type": "text"
      },
      "source": [
        "### Exploration: Google Earth Engine\n",
        "\n",
        "GEE provides a javascript interface where users can manage their assets, create scripts and visualize results. This interface is available in __[GEE.](https://code.earthengine.google.com/)__ Although we will use the python API of GEE, in this part of the tutorial we will use the javascript interface to load data. Later on, we will learn how to do it programatically using GEE Python API.\n",
        "\n",
        "#### Overview of GEE web interface\n",
        "\n",
        "We can distinguish four main areas as the image below shows. \n",
        "1. Left panel. Here we have three tabs: <i>scripts</i>, <i>asset</i> and <i>docs</i>. \n",
        "2. Middle panel. A script editor.\n",
        "3. Right panel. It consist of three tabs: <i>Inspector</i>, <i>console</i> and <i>tasks</i>. \n",
        "4. Map area. We can add visualize data it in this section or edit features.<br> \n",
        "\n",
        "<img src=\"https://github.com/xmesa002/DRRModules/blob/master/imgs/GEE.png?raw=1\" width=\"800\" />\n"
      ]
    },
    {
      "cell_type": "markdown",
      "metadata": {
        "id": "zt38pkLXg9hf",
        "colab_type": "text"
      },
      "source": [
        "#### Loading an Image\n",
        "\n",
        "GEE has a large amount of Earth data free available for researchers. We're going to work with a Landsat 8 (L8) image collection which has been processed to surface reflectance values (i.e. the processing has attempted to remove the atmospheric effects). We will load the Landsat scene over our area of interest(Dominican Republic).<br> \n",
        "\n",
        "To inspect a L8 image in the region of interest (ROI), we will define the ROI as a point, filter the image collection to get a scene with few clouds, and display information about the image in the console. <br>\n",
        "\n",
        "1. Search for Dominican Republic (DR) in the search bar and click the result to pan and zoom the map to the Dominican Republic<br>\n",
        "2. Use the geometry tools to make a point on the DR (exit the drawing tool when you're finished). Name the resultant point by clicking on the import name ('geometry' by default)<br>\n",
        "3. Search for 'Landsat 8 Surface Reflectance Tier 1' Image Collection. Name the import landsat<br>\n",
        "4. Filter the ImageCollection by date and location, sort by metadata property called 'CLOUD_COVER' and get the first image out of this sorted collection:\n",
        "\n",
        "You can type the following Java code into the script editor in GEE. The Python API of GEE will be used for the remainder of the tutorial\n",
        "\n",
        "// Note that we need to cast the result of first() to Image<br>\n",
        "var image = ee.Image(landsat\n",
        "\n",
        ">// Filter to get only images in the specified range<br>\n",
        ".filterDate('2018-01-01', '2018-12-31')\n",
        "\n",
        ">// Filter to get only images at the location of the point<br>\n",
        ".filterBounds(point)\n",
        "\n",
        ">// Sort the collection by a metadata property<br>\n",
        "sort('CLOUD_COVER')\n",
        "\n",
        ">// Get the first image out of this collection<br>\n",
        ".first());\n",
        "\n",
        "(5) Display a readable representationof the image by printing it to the console:<br>\n",
        "\n",
        "//Print the image to the console<br>\n",
        "print('A Landsat scene:', image);\n",
        "\n",
        "<img src=\"https://github.com/xmesa002/DRRModules/blob/master/imgs/javaCode.PNG?raw=1\" width=\"600\" />\n",
        "\n",
        "(6) Activate the console and observe that after the descroptive text, an object is displayed. Expand and explore the object by clicking the little triangle next to the image name to see more information stored in that object. Expand the properties and inspect the metadata of the image. This is where the CLOUD_COVER property you just used is stored.\n",
        "\n",
        "Now that you are familiar with GEE's user interface you can explore it further at your own leisure. The next sections of the tutorial will be performed using GEE Python Application Programming Interface."
      ]
    }
  ]
}