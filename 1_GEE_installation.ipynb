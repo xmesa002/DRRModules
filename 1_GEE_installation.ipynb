{
 "cells": [
  {
   "cell_type": "markdown",
   "metadata": {},
   "source": [
    "______\n",
    "<img src=\"./imgs/DRRlogo.jpg\" width=\"350\" />\n",
    "\n",
    "# Land Cover Classification for use in the CAPRA Model \n",
    "\n",
    "## Software Installation\n",
    "_____\n",
    "\n"
   ]
  },
  {
   "cell_type": "markdown",
   "metadata": {},
   "source": [
    "### Learning Objectives\n",
    "\n",
    "In this tutorial you will learn how to install the necessary software to conduct basic image acquisition, visualization and processing.\n",
    "\n",
    "You will start by signing up to Google Earth Engine (GEE) and downloading open-source Anaconda, which is an environemnt manager and a Python data science distributor. After installing Anaconda open source packages can be individually installed from the Anaconda repository. All tutorials will make us of GEE's Python Application Programing Interface (API) in Jupyter Notebook and the Scientific Python Development Environment, Spyder. \n",
    "\n",
    "Gorelick et al. (2017) wrote in the 2017 <i>Remote Sensing of the Environment</i> article the following to describe GEE:\n",
    "\n",
    "Google Earth Engine is a cloud-based platform for planetary-scale geospatial analysis that brings Google’s massive computational capabilities to bear on a variety of high-impact societal issues including deforestation, drought, disaster, disease, food security, water management, climate monitoring and environmental protection.\n",
    "\n",
    "In this course we will be using GEE's Python API  but in the <i>Data Acquisition</i> tutorial you will become familiar with the JavaScript API. Working with the Python API benefits from a development environment that includes:\n",
    "\n",
    "- A Python installation.\n",
    "- A Python package manager.\n",
    "- The Earth Egine Python API package.\n",
    "- Python data science packages. "
   ]
  },
  {
   "cell_type": "markdown",
   "metadata": {},
   "source": [
    "## Python API Installation \n",
    "### Install Anaconda\n",
    "\n",
    "(1) Before the installation, you should sign up in GEE. This can be done in: https://signup.earthengine.google.com.\n",
    "\n",
    "The open-source Anaconda Distribution is an easy way to perform Python data science and machine learning. It contains hundreds of scientific packages which will be installed when you install Anaconda. \n",
    "\n",
    "(2) Install Microsoft visual studio in:   https://visualstudio.microsoft.com/downloads/\n",
    "\n",
    "(3) Install Anaconda 3 -- python 3 default in: https://www.anaconda.com/distribution/"
   ]
  },
  {
   "cell_type": "markdown",
   "metadata": {},
   "source": [
    "### Create python environment and install plug-ins\n",
    "\n",
    "With conda, you can create, export, list, remove, and update environments that have different versions of Python and/or packages installed in them. Switching or moving between environments is called activating the environment. We will use python 3.5 or higher and pip.\n",
    "\n",
    "From the Start menu open the anaconda command prompt and execute the following steps:\n",
    "\n",
    "(1) conda create -n ee_py3 -c conda-forge python=3 google-api-python-client pyCrypto spyder jupyter <br>\n",
    "\n",
    "<img src=\"./imgs/install_1.png\" />"
   ]
  },
  {
   "cell_type": "markdown",
   "metadata": {},
   "source": [
    "(2) activate ee_py3 <br>\n",
    "<img src=\"./imgs/install_2.png\" />\n",
    "\n",
    " >You can deactivate the python environment with <i>conda deactivate<i>"
   ]
  },
  {
   "cell_type": "markdown",
   "metadata": {},
   "source": [
    "(3) python -c \"from oauth2client import crypt\"   <br>\n",
    "<img src=\"./imgs/install_3.png\" /> <br>\n",
    "> upgrade if necessary with <i>pip install --upgrade oauth2client<i>\n"
   ]
  },
  {
   "cell_type": "markdown",
   "metadata": {},
   "source": [
    "(4) earthengine authenticate <br>\n",
    "<img src=\"./imgs/install_4.png\" />"
   ]
  },
  {
   "cell_type": "markdown",
   "metadata": {},
   "source": [
    "(4) The above instruction will open a browser and request to sign using your google account (if you are not already signed). <br>\n",
    "<img src=\"./imgs/install_5.png\" /> <br>\n",
    "The GEE athenticator will also ask for permission to manage your data."
   ]
  },
  {
   "cell_type": "markdown",
   "metadata": {},
   "source": [
    "(5) After giving permission, GEE will provide a token. <br>\n",
    "\n",
    "<img src=\"./imgs/install_6.png\" />"
   ]
  },
  {
   "cell_type": "markdown",
   "metadata": {},
   "source": [
    "(7) Copy the token and paste in the windows console  <br>\n",
    "<img src=\"./imgs/install_7.png\" />"
   ]
  },
  {
   "cell_type": "markdown",
   "metadata": {},
   "source": [
    "(8) The authorization code is saved and you can start to use the GEE python API.  <br>\n",
    "<img src=\"./imgs/install_8.png\" /> <br>\n",
    "This authentication process creates a credential file located typically in: <br>\n",
    "<i>C:\\Users\\username\\.config\\earthengine</i> \n",
    "<img src=\"./imgs/install_9.png\" /> <br>\n",
    "This credential is related to the specific google account used during login (step 4).<br>\n"
   ]
  },
  {
   "cell_type": "markdown",
   "metadata": {},
   "source": [
    "(9) Check if earth engine has been installed with <i>python -c \"import ee; ee.Initialize()\"<i>"
   ]
  },
  {
   "cell_type": "markdown",
   "metadata": {},
   "source": [
    "(10) Install plugins for spyder with: <br><i>conda install -c conda-forge spyder-notebook<br>conda install -c conda-forge spyder-reports<br>conda install -c conda-forge spyder-terminal"
   ]
  },
  {
   "cell_type": "markdown",
   "metadata": {},
   "source": [
    "# Testing your installation\n"
   ]
  },
  {
   "cell_type": "markdown",
   "metadata": {},
   "source": [
    "The Python development environment, Spyder, was downloaded as part of the Anaconda distribution. In the previous section you downloaded the Spyder notebook plug-in. Now you will be able to use Jupyter noteboooks inside Spyder.\n",
    "\n",
    "From the start menu open Spyder and in a new jupyter notebook file, copy and paste the following code: <br>"
   ]
  },
  {
   "cell_type": "markdown",
   "metadata": {},
   "source": [
    "## Import the Earth Engine Python Package <br>\n",
    "<i><b>import ee </b></i><br>\n",
    "## Initialize the Earth Engine object <br>\n",
    "<i><b> ee.Initialize() </b></i><br>\n",
    "## Print the information for an image asset. <br>\n",
    "<i><b> image = ee.Image('srtm90_v4')</b></i> <br>\n",
    "<i><b> print(image.getInfo()) </b></i> <br>"
   ]
  },
  {
   "cell_type": "markdown",
   "metadata": {},
   "source": [
    "The above command should produce an output like this:<br>\n",
    "<img src=\"./imgs/install_10.png\" />\n"
   ]
  },
  {
   "cell_type": "markdown",
   "metadata": {},
   "source": [
    "In the next section, you will learn more about GEE and how to visualize and load satellite imagery from GEE. "
   ]
  }
 ],
 "metadata": {
  "kernelspec": {
   "display_name": "Python 3 (Spyder)",
   "language": "python3",
   "name": "python3"
  },
  "language_info": {
   "codemirror_mode": {
    "name": "ipython",
    "version": 3
   },
   "file_extension": ".py",
   "mimetype": "text/x-python",
   "name": "python",
   "nbconvert_exporter": "python",
   "pygments_lexer": "ipython3",
   "version": "3.7.3"
  }
 },
 "nbformat": 4,
 "nbformat_minor": 2
}
