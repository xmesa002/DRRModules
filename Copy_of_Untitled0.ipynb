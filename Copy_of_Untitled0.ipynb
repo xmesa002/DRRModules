{
  "nbformat": 4,
  "nbformat_minor": 0,
  "metadata": {
    "colab": {
      "name": "Copy of Untitled0.ipynb",
      "provenance": [],
      "authorship_tag": "ABX9TyOcQbDgsfCGd4aoCcNcxboQ",
      "include_colab_link": true
    },
    "kernelspec": {
      "name": "python3",
      "display_name": "Python 3"
    }
  },
  "cells": [
    {
      "cell_type": "markdown",
      "metadata": {
        "id": "view-in-github",
        "colab_type": "text"
      },
      "source": [
        "<a href=\"https://colab.research.google.com/github/xmesa002/DRRModules/blob/master/Copy_of_Untitled0.ipynb\" target=\"_parent\"><img src=\"https://colab.research.google.com/assets/colab-badge.svg\" alt=\"Open In Colab\"/></a>"
      ]
    },
    {
      "cell_type": "markdown",
      "metadata": {
        "id": "81nrxGP-yfjE",
        "colab_type": "text"
      },
      "source": [
        "_________\n",
        "\n",
        "<img src=\"https://github.com/xmesa002/DRRModules/blob/master/imgs/DRRlogo.jpg?raw=1\" width=\"350\" />\n",
        "\n",
        "# Land Cover Classification with Google Earth Engine \n",
        "\n",
        "## Introduction\n",
        "\n",
        "\n",
        "_________\n"
      ]
    },
    {
      "cell_type": "markdown",
      "metadata": {
        "id": "K-8s415YMpU3",
        "colab_type": "text"
      },
      "source": [
        "<a href=\"https://colab.research.google.com/github/xmesa002/DRRModules/blob/master/test.ipynb#scrollTo=81nrxGP-yfjE\"><img align=\"left\" src=\"https://colab.research.google.com/assets/colab-badge.svg\" alt=\"Open in Colab\" title=\"Open and Execute in Google Colaboratory\"></a>"
      ]
    },
    {
      "cell_type": "code",
      "metadata": {
        "id": "VXjZXWgMwVs3",
        "colab_type": "code",
        "cellView": "form",
        "outputId": "bc28a7cb-c248-4c5c-9513-a640d266e8d2",
        "colab": {
          "base_uri": "https://localhost:8080/",
          "height": 336
        }
      },
      "source": [
        "#@title ### Meet Earth Engine\n",
        "from IPython.display import HTML\n",
        "\n",
        "HTML('<iframe width=\"560\" height=\"315\" src=\"https://www.youtube.com/embed/gKGOeTFHnKY\" frameborder=\"0\" allowfullscreen></iframe>')\n"
      ],
      "execution_count": 0,
      "outputs": [
        {
          "output_type": "execute_result",
          "data": {
            "text/html": [
              "<iframe width=\"560\" height=\"315\" src=\"https://www.youtube.com/embed/gKGOeTFHnKY\" frameborder=\"0\" allowfullscreen></iframe>"
            ],
            "text/plain": [
              "<IPython.core.display.HTML object>"
            ]
          },
          "metadata": {
            "tags": []
          },
          "execution_count": 2
        }
      ]
    },
    {
      "cell_type": "code",
      "metadata": {
        "id": "TRMFG28Xxa1i",
        "colab_type": "code",
        "colab": {}
      },
      "source": [
        ""
      ],
      "execution_count": 0,
      "outputs": []
    }
  ]
}